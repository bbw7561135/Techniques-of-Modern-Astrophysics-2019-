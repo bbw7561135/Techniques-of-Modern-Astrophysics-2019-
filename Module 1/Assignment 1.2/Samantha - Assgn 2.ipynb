{
 "cells": [
  {
   "cell_type": "code",
   "execution_count": 69,
   "metadata": {},
   "outputs": [
    {
     "name": "stdout",
     "output_type": "stream",
     "text": [
      "[ 44.5         44.5         44.5        ...,  44.49997864  44.49997864\n",
      "  44.49997863]\n"
     ]
    },
    {
     "data": {
      "image/png": "[encoded data removed]",
      "text/plain": [
       "<matplotlib.figure.Figure at 0xfc7e03278>"
      ]
     },
     "metadata": {},
     "output_type": "display_data"
    }
   ],
   "source": [
    "#Part A - 2\n",
    "import numpy as np\n",
    "import numpy.random\n",
    "import matplotlib.pyplot as plt\n",
    "\n",
    "from mpl_toolkits.mplot3d import Axes3D\n",
    "\n",
    "t = 100\n",
    "dt = 0.01\n",
    "N = int(t/dt)\n",
    "t0 = ((6.955*10**10)/((6.674*10**(-8))*(1.989*10**33)))**0.5\n",
    "\n",
    "mu_star = 4.5\n",
    "mu_s = 10**(-5)\n",
    "\n",
    "tm = np.zeros(N)\n",
    "eta = np.zeros(N)\n",
    "d_eta = np.zeros(N)\n",
    "p = np.zeros(N)\n",
    "\n",
    "tm[0] = 0\n",
    "eta[0] = 44.5\n",
    "d_eta[0] = 0\n",
    "p[0] = 1.14755 * 10**(-11)\n",
    "\n",
    "for i in range(1,N):\n",
    "    d2_eta = -(mu_star/(eta[i-1]**2.0)) + (eta[i-1]**2.0)*p[i-1]/mu_s \n",
    "    d_eta[i] = d_eta[i-1] + d2_eta*dt\n",
    "    eta[i] = eta[i-1] + d_eta[i-1]*dt\n",
    "    p[i] = p[i-1]*(eta[i-1]**5)/(eta[i]**5)\n",
    "    tm[i] = tm[i-1]+dt\n",
    "\n",
    "print(eta)\n",
    "plt.plot(tm/t0, eta)\n",
    "plt.xlabel(r'$\\tau$')\n",
    "plt.ylabel(r'$\\eta$')\n",
    "plt.show()"
   ]
  },
  {
   "cell_type": "code",
   "execution_count": 39,
   "metadata": {},
   "outputs": [
    {
     "name": "stderr",
     "output_type": "stream",
     "text": [
      "C:\\Users\\Samantha\\Anaconda3\\lib\\site-packages\\ipykernel_launcher.py:74: RuntimeWarning: divide by zero encountered in true_divide\n"
     ]
    },
    {
     "data": {
      "image/png": "[encoded data removed]",
      "text/plain": [
       "<matplotlib.figure.Figure at 0xfc8051e48>"
      ]
     },
     "metadata": {},
     "output_type": "display_data"
    }
   ],
   "source": [
    "#Part B - 1\n",
    "import numpy as np\n",
    "import numpy.random\n",
    "import matplotlib.pyplot as plt\n",
    "\n",
    "def Move_Photon(zMax =1, tauMax = 10):\n",
    "\n",
    "\n",
    "    N = 10**3\n",
    "    x = np.zeros(N)\n",
    "    y = np.zeros(N)\n",
    "    z = np.zeros(N)\n",
    "\n",
    "    scatters =0\n",
    "\n",
    "    flag = True\n",
    "\n",
    "    while flag:\n",
    "\n",
    "        scatters = 0\n",
    "        for i in range(N-1):\n",
    "            chi,xi,nu = np.random.random(3) \n",
    "\n",
    "            cosTheta = 1-2*chi\n",
    "            sinTheta = np.sqrt(1-cosTheta**2)\n",
    "\n",
    "            phi = 2*np.pi*xi\n",
    "\n",
    "\n",
    "            tau = -np.log(1 - nu)\n",
    "\n",
    "            s = tau/tauMax\n",
    "\n",
    "\n",
    "\n",
    "            x[i+1] = x[i]+ s*sinTheta*np.cos(phi)\n",
    "            y[i+1] = y[i]+ s*sinTheta*np.sin(phi)\n",
    "            z[i+1] = z[i]+ s*cosTheta\n",
    "\n",
    "            if z[i+1] < 0:\n",
    "                scatters =0\n",
    "                x = np.zeros(N)\n",
    "                y = np.zeros(N)\n",
    "                z = np.zeros(N)\n",
    "                break\n",
    "\n",
    "            if z[i+1] > zMax:            \n",
    "                flag = False\n",
    "                break\n",
    "            scatters +=1\n",
    "            \n",
    "    return cosTheta, phi, x[scatters],y[scatters]\n",
    "\n",
    "\n",
    "\n",
    "mu = np.zeros(1000)\n",
    "y = np.zeros(10)\n",
    "\n",
    "for i in range(1000):\n",
    "    mu[i], Phi, Xscat, Yscat = Move_Photon()\n",
    "    \n",
    "\n",
    "N_bins = 10\n",
    "\n",
    "max_x = max(mu) + 0.0001\n",
    "min_x = min(mu)\n",
    "binsize = (max_x - min_x)/N_bins\n",
    "\n",
    "for num in mu: \n",
    "    temp = int(num*N_bins)\n",
    "    y[temp] += 1\n",
    "\n",
    "bins = np.arange(0,1,1/N_bins)\n",
    "y = y / (2*bins*1000/10)\n",
    "\n",
    "\n",
    "plt.plot(np.arccos(bins),y)\n",
    "plt.plot(np.arccos(bins),(0.5+0.75*bins))\n",
    "plt.show()"
   ]
  },
  {
   "cell_type": "code",
   "execution_count": 34,
   "metadata": {},
   "outputs": [
    {
     "data": {
      "image/png": "[encoded data removed]",
      "text/plain": [
       "<matplotlib.figure.Figure at 0xfc8134400>"
      ]
     },
     "metadata": {},
     "output_type": "display_data"
    }
   ],
   "source": [
    "#Part B - 2 \n",
    "import numpy as np\n",
    "import numpy.random\n",
    "import matplotlib.pyplot as plt\n",
    "\n",
    "def Move_Photon(zMax =1, tauMax = 10):\n",
    "\n",
    "\n",
    "    N = 10**3\n",
    "    x = np.zeros(N)\n",
    "    y = np.zeros(N)\n",
    "    z = np.zeros(N)\n",
    "\n",
    "    scatters =0\n",
    "\n",
    "    flag = True\n",
    "\n",
    "    while flag:\n",
    "\n",
    "        scatters = 0\n",
    "        for i in range(N-1):\n",
    "            chi,xi,nu = np.random.random(3) \n",
    "\n",
    "            cosTheta = 1-2*chi\n",
    "            sinTheta = np.sqrt(1-cosTheta**2)\n",
    "\n",
    "            phi = 2*np.pi*xi\n",
    "\n",
    "\n",
    "            tau = -np.log(1 - nu)\n",
    "\n",
    "            s = tau/tauMax\n",
    "\n",
    "\n",
    "\n",
    "            x[i+1] = x[i]+ s*sinTheta*np.cos(phi)\n",
    "            y[i+1] = y[i]+ s*sinTheta*np.sin(phi)\n",
    "            z[i+1] = z[i]+ s*cosTheta\n",
    "\n",
    "            if z[i+1] < 0:\n",
    "                scatters =0\n",
    "                x = np.zeros(N)\n",
    "                y = np.zeros(N)\n",
    "                z = np.zeros(N)\n",
    "                break\n",
    "\n",
    "            if z[i+1] > zMax:            \n",
    "                flag = False\n",
    "                break\n",
    "            scatters +=1\n",
    "            \n",
    "    return cosTheta, phi, x[scatters],y[scatters]\n",
    "\n",
    "\n",
    "Xscat = np.zeros(1000)\n",
    "Yscat = np.zeros(1000)\n",
    "\n",
    "for i in range(1000):\n",
    "    mu, Phi, Xscat[i], Yscat[i] = Move_Photon()\n",
    "    \n",
    "\n",
    "N_bins = 10\n",
    "\n",
    "\n",
    "plt.plot(Xscat,Yscat,'o')\n",
    "plt.show()"
   ]
  },
  {
   "cell_type": "code",
   "execution_count": null,
   "metadata": {
    "collapsed": true
   },
   "outputs": [],
   "source": []
  }
 ],
 "metadata": {
  "kernelspec": {
   "display_name": "Python 3",
   "language": "python",
   "name": "python3"
  },
  "language_info": {
   "codemirror_mode": {
    "name": "ipython",
    "version": 3
   },
   "file_extension": ".py",
   "mimetype": "text/x-python",
   "name": "python",
   "nbconvert_exporter": "python",
   "pygments_lexer": "ipython3",
   "version": "3.6.1"
  }
 },
 "nbformat": 4,
 "nbformat_minor": 2
}
