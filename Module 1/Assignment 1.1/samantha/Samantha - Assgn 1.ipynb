{
 "cells": [
  {
   "cell_type": "code",
   "execution_count": 49,
   "metadata": {},
   "outputs": [
    {
     "name": "stderr",
     "output_type": "stream",
     "text": [
      "C:\\Users\\Samantha\\Anaconda3\\lib\\site-packages\\matplotlib\\figure.py:1743: UserWarning: This figure includes Axes that are not compatible with tight_layout, so its results might be incorrect.\n",
      "  warnings.warn(\"This figure includes Axes that are not \"\n"
     ]
    },
    {
     "data": {
      "image/png": "[encoded data removed]",
      "text/plain": [
       "<matplotlib.figure.Figure at 0x6f9e22c6a0>"
      ]
     },
     "metadata": {},
     "output_type": "display_data"
    },
    {
     "name": "stdout",
     "output_type": "stream",
     "text": [
      "2.71405511518\n"
     ]
    }
   ],
   "source": [
    "import numpy as np\n",
    "#import phy4910\n",
    "import matplotlib\n",
    "import matplotlib.pyplot as plt\n",
    "from scipy.integrate import simps\n",
    "#from matplotlib import rc\n",
    "#rc('text', usetex=True)\n",
    "#matplotlib.rcParams['mathtext.fontset'] = 'cm'\n",
    "#matplotlib.rcParams['font.family'] = 'STIXGeneral'\n",
    "#plt.rcParams.update({'font.size':14})\n",
    "#plt.rc('axes', labelsize=16)\n",
    "#plt.rcParams.update({'figure.autolayout': True})\n",
    "\n",
    "def ode_euler(x_start, x_end, h, y0, z0, f, g):\n",
    "    \n",
    "    x = np.arange(x_start, x_end, h)\n",
    "    N = len(x)\n",
    "    y = np.zeros(N)\n",
    "    y[0] = y0\n",
    "    z = np.zeros(N)\n",
    "    z[0] = z0\n",
    "    \n",
    "    for i in range(0, N-1):\n",
    "        k1 = h * f(x[i], y[i], z[i])\n",
    "        l1 = h * g(x[i], y[i], z[i])\n",
    "            \n",
    "        y[i+1] = y[i] + k1\n",
    "        z[i+1] = z[i] + l1\n",
    "                \n",
    "    return x, y, z\n",
    "\n",
    "def ode_rk4(x_start, x_end, h, y0, z0, f, g):\n",
    "    \n",
    "    x = np.arange(x_start, x_end, h)\n",
    "    N = len(x)\n",
    "    y= np.zeros(N)\n",
    "    y[0] = y0\n",
    "    z = np.zeros(N)\n",
    "    z[0] = z0\n",
    "    \n",
    "    for i in range(0, N-1):\n",
    "        k1 = h * f(x[i], y[i], z[i])\n",
    "        l1 = h * g(x[i], y[i], z[i])\n",
    "        k2 = h * f(x[i] + 0.5 * h, y[i] + 0.5 * k1, z[i] + 0.5 * l1)\n",
    "        l2 = h * g(x[i] + 0.5 * h, y[i] + 0.5 * k1, z[i] + 0.5 * l1)\n",
    "        k3 = h * f(x[i] + 0.5 * h, y[i] + 0.5 * k2, z[i] + 0.5 * l2)\n",
    "        l3 = h * g(x[i] + 0.5 * h, y[i] + 0.5 * k2, z[i] + 0.5 * l2)\n",
    "        k4 = h * f(x[i] + h, y[i] + k3, z[i] + l3)\n",
    "        l4 = h * g(x[i] + h, y[i] + k3, z[i] + l3)\n",
    "    \n",
    "        y[i+1] = y[i] + (k1 + 2.0 * k2 + 2.0 * k3 + k4) / 6.0\n",
    "        z[i+1] = z[i] + (l1 + 2.0 * l2 + 2.0 * l3 + l4) / 6.0\n",
    "        \n",
    "    return x, y, z\n",
    "\n",
    "\n",
    "n = 1.5\n",
    "\n",
    "def f(x, y, z):\n",
    "    return z;\n",
    "    \n",
    "def g(x, y, z):\n",
    "    return -2.0 / x * z - np.power(y, n)\n",
    "\n",
    "#eta1, rho1, tmp = phy4910.ode_euler(0.00001, 10, 0.3, 1.0, 0.0, f, g)\n",
    "\n",
    "#eta2, rho2, tmp = phy4910.ode_rk4(0.00001, 10, 0.3, 1.0, 0.0, f, g)\n",
    "\n",
    "#eta1, rho1, tmp = ode_euler(0.00001, 10, 0.3, 1.0, 0.0, f, g)\n",
    "\n",
    "eta2, rho2, tmp = ode_rk4(0.00001, 3.654, 0.001, 1.0, 0.0, f, g)\n",
    "#print(eta2, rho2)\n",
    "\n",
    "fig = plt.figure(figsize=(6, 4))\n",
    "ax = fig.add_subplot(1,1,1)\n",
    "ax.grid(True)\n",
    "\n",
    "#ax.plot(eta1, rho1, color=\"black\")\n",
    "ax.plot(eta2, rho2, color=\"red\")\n",
    "plt.ylabel(r'$\\varrho$')\n",
    "plt.xlabel(r'$\\eta$')\n",
    "#ax.plot(eta1, np.sin(eta1)/eta1, color=\"blue\", linewidth=0.7)\n",
    "#ax.plot(eta2, rho2-rho1, color=\"red\")\n",
    "\n",
    "\n",
    "plt.show()\n",
    "\n",
    "#Section A, Part 1 - finding dimensionless mass\n",
    "d_mass = simps((rho2**n)*(eta2**2.0), x)\n",
    "print(d_mass)\n",
    "\n",
    "\n"
   ]
  },
  {
   "cell_type": "code",
   "execution_count": 134,
   "metadata": {},
   "outputs": [
    {
     "name": "stderr",
     "output_type": "stream",
     "text": [
      "C:\\Users\\Samantha\\Anaconda3\\lib\\site-packages\\matplotlib\\figure.py:1743: UserWarning: This figure includes Axes that are not compatible with tight_layout, so its results might be incorrect.\n",
      "  warnings.warn(\"This figure includes Axes that are not \"\n"
     ]
    },
    {
     "data": {
      "image/png": "[encoded data removed]",
      "text/plain": [
       "<matplotlib.figure.Figure at 0x6f9f2da5c0>"
      ]
     },
     "metadata": {},
     "output_type": "display_data"
    }
   ],
   "source": [
    "r0 = 6.0e8\n",
    "rs = 8.767e8\n",
    "dr = 10000\n",
    "\n",
    "x = np.arange(r0,rs,dr)\n",
    "N = len(x)\n",
    "y = np.zeros(N)\n",
    "y[0] = 0\n",
    "\n",
    "for i in range(0,N): \n",
    "    y[i] = ((x[i]/3.654)**(-6.0))*((2.5*3.166e20)/(4*np.pi*6.674))**3.0\n",
    "\n",
    "fig = plt.figure(figsize=(6, 4))\n",
    "ax = fig.add_subplot(1,1,1)\n",
    "ax.grid(True)\n",
    "\n",
    "ax.plot(x,y, color=\"red\")\n",
    "plt.ylabel(r'$\\rho$(r)')\n",
    "plt.xlabel(r'r')\n",
    "\n",
    "\n",
    "\n",
    "plt.show()"
   ]
  },
  {
   "cell_type": "code",
   "execution_count": 52,
   "metadata": {},
   "outputs": [
    {
     "name": "stderr",
     "output_type": "stream",
     "text": [
      "C:\\Users\\Samantha\\Anaconda3\\lib\\site-packages\\matplotlib\\figure.py:1743: UserWarning: This figure includes Axes that are not compatible with tight_layout, so its results might be incorrect.\n",
      "  warnings.warn(\"This figure includes Axes that are not \"\n"
     ]
    },
    {
     "data": {
      "image/png": "[encoded data removed]",
      "text/plain": [
       "<matplotlib.figure.Figure at 0x6f9e16d2b0>"
      ]
     },
     "metadata": {},
     "output_type": "display_data"
    },
    {
     "name": "stdout",
     "output_type": "stream",
     "text": [
      "2.01823595262\n"
     ]
    }
   ],
   "source": [
    "n = 3\n",
    "\n",
    "eta2, rho2, tmp = ode_rk4(0.00001, 6.898, 0.001, 1.0, 0.0, f, g)\n",
    "#print(eta2, rho2)\n",
    "\n",
    "fig = plt.figure(figsize=(6, 4))\n",
    "ax = fig.add_subplot(1,1,1)\n",
    "ax.grid(True)\n",
    "\n",
    "ax.plot(eta2, rho2, color=\"red\")\n",
    "plt.ylabel(r'$\\varrho$')\n",
    "plt.xlabel(r'$\\eta$')\n",
    "\n",
    "\n",
    "\n",
    "plt.show()\n",
    "\n",
    "#Section A, Part 1 - finding dimensionless mass\n",
    "d_mass = simps((rho2**n)*(eta2**2.0), eta2)\n",
    "print(d_mass)\n"
   ]
  },
  {
   "cell_type": "code",
   "execution_count": 135,
   "metadata": {},
   "outputs": [
    {
     "name": "stderr",
     "output_type": "stream",
     "text": [
      "C:\\Users\\Samantha\\Anaconda3\\lib\\site-packages\\matplotlib\\figure.py:1743: UserWarning: This figure includes Axes that are not compatible with tight_layout, so its results might be incorrect.\n",
      "  warnings.warn(\"This figure includes Axes that are not \"\n"
     ]
    },
    {
     "data": {
      "image/png": "[encoded data removed]",
      "text/plain": [
       "<matplotlib.figure.Figure at 0x6f9d8899e8>"
      ]
     },
     "metadata": {},
     "output_type": "display_data"
    }
   ],
   "source": [
    "r0 = 6.0e8\n",
    "rs = 8.890e8\n",
    "dr = 10000\n",
    "\n",
    "x = np.arange(r0,rs,dr)\n",
    "N = len(x)\n",
    "y = np.zeros(N)\n",
    "y[0] = 0\n",
    "\n",
    "for i in range(0,N): \n",
    "    y[i] = ((x[i]/6.898)*(4.936e22/(np.pi*6.674))**(-0.5))**(-3.0)\n",
    "\n",
    "fig = plt.figure(figsize=(6, 4))\n",
    "ax = fig.add_subplot(1,1,1)\n",
    "ax.grid(True)\n",
    "\n",
    "ax.plot(x,y, color=\"red\")\n",
    "plt.ylabel(r'$\\rho$(r)')\n",
    "plt.xlabel(r'r')\n",
    "\n",
    "\n",
    "\n",
    "plt.show()"
   ]
  },
  {
   "cell_type": "code",
   "execution_count": 222,
   "metadata": {},
   "outputs": [
    {
     "name": "stderr",
     "output_type": "stream",
     "text": [
      "C:\\Users\\Samantha\\Anaconda3\\lib\\site-packages\\matplotlib\\figure.py:1743: UserWarning: This figure includes Axes that are not compatible with tight_layout, so its results might be incorrect.\n",
      "  warnings.warn(\"This figure includes Axes that are not \"\n"
     ]
    },
    {
     "data": {
      "image/png": "[encoded data removed]",
      "text/plain": [
       "<matplotlib.figure.Figure at 0x6f9d9d4c88>"
      ]
     },
     "metadata": {},
     "output_type": "display_data"
    },
    {
     "name": "stdout",
     "output_type": "stream",
     "text": [
      "0.450006859297\n"
     ]
    }
   ],
   "source": [
    "def whitedwarf(x_start, x_end, h, y0, z0, f, g):\n",
    "    \n",
    "    x = np.arange(x_start, x_end, h)\n",
    "    N = len(x)\n",
    "    y= np.zeros(N)\n",
    "    y[0] = y0\n",
    "    z = np.zeros(N)\n",
    "    z[0] = z0\n",
    "    \n",
    "    for i in range(0, N-1):\n",
    "        if y[i] <= 0.001*y0:\n",
    "            y[i+1] = y[i]\n",
    "        k1 = h * f(x[i], y[i], z[i])\n",
    "        l1 = h * g(x[i], y[i], z[i])\n",
    "        k2 = h * f(x[i] + 0.5 * h, y[i] + 0.5 * k1, z[i] + 0.5 * l1)\n",
    "        l2 = h * g(x[i] + 0.5 * h, y[i] + 0.5 * k1, z[i] + 0.5 * l1)\n",
    "        k3 = h * f(x[i] + 0.5 * h, y[i] + 0.5 * k2, z[i] + 0.5 * l2)\n",
    "        l3 = h * g(x[i] + 0.5 * h, y[i] + 0.5 * k2, z[i] + 0.5 * l2)\n",
    "        k4 = h * f(x[i] + h, y[i] + k3, z[i] + l3)\n",
    "        l4 = h * g(x[i] + h, y[i] + k3, z[i] + l3)\n",
    "    \n",
    "        y[i+1] = y[i] + (k1 + 2.0 * k2 + 2.0 * k3 + k4) / 6.0\n",
    "        z[i+1] = z[i] + (l1 + 2.0 * l2 + 2.0 * l3 + l4) / 6.0\n",
    "    \n",
    "        \n",
    "    return x, y, z\n",
    "\n",
    "\n",
    "n = 1.5\n",
    "\n",
    "def A(y):\n",
    "    return -(5/9)*(y**(4/3))*((1+y**(2/3))**(-0.5))-(2/3)*(y**(2/3))*((1+y**(2/3))**(-1.5))+(1/3)*((1+y**(2/3))**(-2.5));\n",
    "\n",
    "def B(y):\n",
    "    return (5/3)*(y**(-1/3))*((1+y**(2/3))**(-0.5))-(1/3)*(y**(1/3))*((1+y**(2/3))**(-1.5));\n",
    "\n",
    "def f(x, y, z):\n",
    "    return z;\n",
    "    \n",
    "def g(x, y, z):\n",
    "    return - (2/x)*z - (A(y)/B(y))*z**2.0 -(1/B(y))*y;\n",
    "\n",
    "rho_c = 1.0\n",
    "\n",
    "eta2, rho2, tmp = whitedwarf(0.00001, 3.890, 0.01, rho_c, 0.0, f, g)\n",
    "mass = 4.0*np.pi*simps((rho2*(3.789e6)*(eta2*1.556e8)**2.0), (eta2*1.556e8))\n",
    "S_mass = mass / (1.989e33)\n",
    "\n",
    "fig = plt.figure(figsize=(6, 4))\n",
    "ax = fig.add_subplot(1,1,1)\n",
    "ax.grid(True)\n",
    "\n",
    "ax.plot(eta2*(1.556e8), rho2*(3.789e6), color=\"red\")\n",
    "plt.ylabel(r'$\\rho$(r)')\n",
    "plt.xlabel(r'r')\n",
    "\n",
    "\n",
    "\n",
    "plt.show()\n",
    "\n",
    "mass = 4.0*np.pi*simps((rho2*(3.789e6)*(eta2*1.556e8)**2.0), (eta2*1.556e8))\n",
    "S_mass = mass / (1.989e33)\n",
    "print(S_mass)"
   ]
  },
  {
   "cell_type": "code",
   "execution_count": 225,
   "metadata": {},
   "outputs": [
    {
     "name": "stderr",
     "output_type": "stream",
     "text": [
      "C:\\Users\\Samantha\\Anaconda3\\lib\\site-packages\\ipykernel_launcher.py:37: RuntimeWarning: invalid value encountered in double_scalars\n",
      "C:\\Users\\Samantha\\Anaconda3\\lib\\site-packages\\ipykernel_launcher.py:40: RuntimeWarning: invalid value encountered in double_scalars\n",
      "C:\\Users\\Samantha\\Anaconda3\\lib\\site-packages\\ipykernel_launcher.py:46: RuntimeWarning: overflow encountered in double_scalars\n",
      "C:\\Users\\Samantha\\Anaconda3\\lib\\site-packages\\ipykernel_launcher.py:46: RuntimeWarning: invalid value encountered in double_scalars\n",
      "C:\\Users\\Samantha\\Anaconda3\\lib\\site-packages\\ipykernel_launcher.py:49: RuntimeWarning: invalid value encountered in greater\n",
      "C:\\Users\\Samantha\\Anaconda3\\lib\\site-packages\\ipykernel_launcher.py:50: RuntimeWarning: invalid value encountered in greater\n",
      "C:\\Users\\Samantha\\Anaconda3\\lib\\site-packages\\ipykernel_launcher.py:37: RuntimeWarning: overflow encountered in double_scalars\n",
      "C:\\Users\\Samantha\\Anaconda3\\lib\\site-packages\\matplotlib\\figure.py:1743: UserWarning: This figure includes Axes that are not compatible with tight_layout, so its results might be incorrect.\n",
      "  warnings.warn(\"This figure includes Axes that are not \"\n"
     ]
    },
    {
     "data": {
      "image/png": "[encoded data removed]",
      "text/plain": [
       "<matplotlib.figure.Figure at 0x6f9e144dd8>"
      ]
     },
     "metadata": {},
     "output_type": "display_data"
    }
   ],
   "source": [
    "rho_c = np.logspace(4,12,25)\n",
    "\n",
    "\n",
    "\n",
    "def model_WD(rho_c): \n",
    "    def whitedwarf(x_start, x_end, h, y0, z0, f, g):\n",
    "    \n",
    "        x = np.arange(x_start, x_end, h)\n",
    "        N = len(x)\n",
    "        y= np.zeros(N)\n",
    "        y[0] = y0\n",
    "        z = np.zeros(N)\n",
    "        z[0] = z0\n",
    "    \n",
    "        for i in range(0, N-1):\n",
    "            if y[i] <= 0.001*y0:\n",
    "                break\n",
    "            k1 = h * f(x[i], y[i], z[i])\n",
    "            l1 = h * g(x[i], y[i], z[i])\n",
    "            k2 = h * f(x[i] + 0.5 * h, y[i] + 0.5 * k1, z[i] + 0.5 * l1)\n",
    "            l2 = h * g(x[i] + 0.5 * h, y[i] + 0.5 * k1, z[i] + 0.5 * l1)\n",
    "            k3 = h * f(x[i] + 0.5 * h, y[i] + 0.5 * k2, z[i] + 0.5 * l2)\n",
    "            l3 = h * g(x[i] + 0.5 * h, y[i] + 0.5 * k2, z[i] + 0.5 * l2)\n",
    "            k4 = h * f(x[i] + h, y[i] + k3, z[i] + l3)\n",
    "            l4 = h * g(x[i] + h, y[i] + k3, z[i] + l3)\n",
    "    \n",
    "            y[i+1] = y[i] + (k1 + 2.0 * k2 + 2.0 * k3 + k4) / 6.0\n",
    "            z[i+1] = z[i] + (l1 + 2.0 * l2 + 2.0 * l3 + l4) / 6.0\n",
    "    \n",
    "        \n",
    "        return x, y, z\n",
    "\n",
    "\n",
    "    n = 1.5\n",
    "\n",
    "    def A(y):\n",
    "        return -(5/9)*(y**(4/3))*((1+y**(2/3))**(-0.5))-(2/3)*(y**(2/3))*((1+y**(2/3))**(-1.5))+(1/3)*((1+y**(2/3))**(-2.5));\n",
    "\n",
    "    def B(y):\n",
    "        return (5/3)*(y**(-1/3))*((1+y**(2/3))**(-0.5))-(1/3)*(y**(1/3))*((1+y**(2/3))**(-1.5));\n",
    "\n",
    "    def f(x, y, z):\n",
    "        return z;\n",
    "    \n",
    "    def g(x, y, z):\n",
    "        return - (2/x)*z - (A(y)/B(y))*z**2.0 -(1/B(y))*y;\n",
    "\n",
    "    eta2, rho2, tmp = whitedwarf(0.00001, 20, 0.01, rho_c/(3.789e6), 0.0, f, g)\n",
    "    eta2 = eta2[rho2>0]\n",
    "    rho2 = rho2[rho2>0]\n",
    "    mass = 4.0*np.pi*simps((rho2*(3.789e6)*(eta2*1.556e8)**2.0), (eta2*1.556e8))\n",
    "    S_mass = mass / (1.989e33)\n",
    "    \n",
    "    return S_mass;\n",
    "\n",
    "M = np.zeros(25)\n",
    "for i in range(25):\n",
    "    M[i] = model_WD(rho_c[i])\n",
    "\n",
    "plt.semilogx(rho_c,M)\n",
    "ax = fig.add_subplot(1,1,1)\n",
    "ax.grid(True)\n",
    "\n",
    "ax.plot(eta2*(1.556e8), rho2*(3.789e6), color=\"red\")\n",
    "plt.ylabel(r'$M_\\odot$(r)')\n",
    "plt.xlabel(r'r')\n",
    "\n",
    "\n",
    "\n",
    "plt.show()\n",
    "#print(model_WD(1.0e8))\n"
   ]
  }
 ],
 "metadata": {
  "kernelspec": {
   "display_name": "Python 3",
   "language": "python",
   "name": "python3"
  },
  "language_info": {
   "codemirror_mode": {
    "name": "ipython",
    "version": 3
   },
   "file_extension": ".py",
   "mimetype": "text/x-python",
   "name": "python",
   "nbconvert_exporter": "python",
   "pygments_lexer": "ipython3",
   "version": "3.6.1"
  }
 },
 "nbformat": 4,
 "nbformat_minor": 2
}
