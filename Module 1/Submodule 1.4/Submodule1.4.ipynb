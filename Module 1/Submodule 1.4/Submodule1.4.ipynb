{
 "cells": [
  {
   "cell_type": "code",
   "execution_count": 19,
   "metadata": {
    "scrolled": false
   },
   "outputs": [
    {
     "name": "stdout",
     "output_type": "stream",
     "text": [
      "2.3517191410064697 s\n"
     ]
    }
   ],
   "source": [
    "import numpy as np\n",
    "import numpy.random\n",
    "import matplotlib.pyplot as plt\n",
    "import time\n",
    "\n",
    "from mpl_toolkits.mplot3d import Axes3D\n",
    "\n",
    "\n",
    "\n",
    "def Move_Photon(zMax =1, tauMax = 10):\n",
    "\n",
    "\n",
    "    N = 10**3\n",
    "    x = np.zeros(N)\n",
    "    y = np.zeros(N)\n",
    "    z = np.zeros(N)\n",
    "\n",
    "    scatters =0\n",
    "\n",
    "    flag = True\n",
    "\n",
    "    while flag:\n",
    "\n",
    "        scatters = 0\n",
    "        #print('Start')\n",
    "        for i in range(N-1):\n",
    "            chi,xi,nu = np.random.random(3) \n",
    "\n",
    "            cosTheta = 1-2*chi\n",
    "            sinTheta = np.sqrt(1-cosTheta**2)\n",
    "\n",
    "            phi = 2*np.pi*xi\n",
    "\n",
    "\n",
    "            tau = -np.log(1 - nu)\n",
    "\n",
    "            s = tau/tauMax\n",
    "\n",
    "\n",
    "\n",
    "            x[i+1] = x[i]+ s*sinTheta*np.cos(phi)\n",
    "            y[i+1] = y[i]+ s*sinTheta*np.sin(phi)\n",
    "            z[i+1] = z[i]+ s*cosTheta\n",
    "\n",
    "            if z[i+1] < 0:\n",
    "                scatters =0\n",
    "                x = np.zeros(N)\n",
    "                y = np.zeros(N)\n",
    "                z = np.zeros(N)\n",
    "                #print('Reset')\n",
    "                break\n",
    "\n",
    "            if z[i+1] > zMax:            \n",
    "                flag = False\n",
    "                #print('Escaped')\n",
    "                break\n",
    "            scatters +=1\n",
    "            \n",
    "    return cosTheta, phi, x[scatters],y[scatters]\n",
    "\n",
    "starttime = time.time()\n",
    "\n",
    "for i in range(1000):\n",
    "    Move_Photon()\n",
    "print(time.time()-starttime,'s')\n",
    "\n",
    "# print(scatters)\n",
    "\n",
    "\n",
    "# fig = plt.figure()\n",
    "# ax = fig.add_subplot(111, projection='3d')\n",
    "\n",
    "\n",
    "# plt.plot(x[0:scatters],y[0:scatters],z[0:scatters])\n",
    "# plt.show()\n"
   ]
  },
  {
   "cell_type": "code",
   "execution_count": null,
   "metadata": {
    "collapsed": true
   },
   "outputs": [],
   "source": []
  },
  {
   "cell_type": "code",
   "execution_count": null,
   "metadata": {
    "collapsed": true
   },
   "outputs": [],
   "source": []
  }
 ],
 "metadata": {
  "kernelspec": {
   "display_name": "Python 3",
   "language": "python",
   "name": "python3"
  },
  "language_info": {
   "codemirror_mode": {
    "name": "ipython",
    "version": 3
   },
   "file_extension": ".py",
   "mimetype": "text/x-python",
   "name": "python",
   "nbconvert_exporter": "python",
   "pygments_lexer": "ipython3",
   "version": "3.6.1"
  }
 },
 "nbformat": 4,
 "nbformat_minor": 2
}
